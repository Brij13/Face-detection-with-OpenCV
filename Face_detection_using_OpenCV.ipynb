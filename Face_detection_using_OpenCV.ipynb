{
  "nbformat": 4,
  "nbformat_minor": 0,
  "metadata": {
    "colab": {
      "provenance": [],
      "authorship_tag": "ABX9TyNd9rli9H1gigIXIwOsca/m",
      "include_colab_link": true
    },
    "kernelspec": {
      "name": "python3",
      "display_name": "Python 3"
    },
    "language_info": {
      "name": "python"
    }
  },
  "cells": [
    {
      "cell_type": "markdown",
      "metadata": {
        "id": "view-in-github",
        "colab_type": "text"
      },
      "source": [
        "<a href=\"https://colab.research.google.com/github/Brij13/Face-detection-with-OpenCV/blob/master/Face_detection_using_OpenCV.ipynb\" target=\"_parent\"><img src=\"https://colab.research.google.com/assets/colab-badge.svg\" alt=\"Open In Colab\"/></a>"
      ]
    },
    {
      "cell_type": "code",
      "source": [
        "import cv2\n",
        "import urllib.request as ur\n",
        "import time\n",
        "import numpy as np\n",
        "\n",
        "pretraind_casecade = cv2.CascadeClassifier('/content/haarcascade_frontalface_default.xml')\n",
        "\n",
        "openurl = ur.urlopen('https://brijeshmandaliya.com/wp-content/uploads/2023/07/Brijesh-Mandaliya-Banner-3.png')\n",
        "imgarr = np.asarray(bytearray(openurl.read()), dtype=np.uint8)\n",
        "myimg = cv2.imdecode(imgarr, -1)\n",
        "\n",
        "#myimg = cv2.imread('https://brijeshmandaliya.com/wp-content/uploads/2023/07/Brijesh-Mandaliya-Banner-3.png')\n",
        "\n",
        "face_detect = pretraind_casecade.detectMultiScale(myimg, 1.5, 4)\n",
        "\n",
        "for (x, y, h, w) in face_detect:\n",
        "    cv2.rectangle(myimg, (x,y), (x+w, y+h), (255, 0, 0), 6)\n",
        "\n",
        "time = str(time.time())\n",
        "if cv2.imwrite('/content/'+ time +'.png', myimg):\n",
        "    print('Photo is ready!')\n",
        "else:\n",
        "    print('Photo is not ready!')"
      ],
      "metadata": {
        "colab": {
          "base_uri": "https://localhost:8080/"
        },
        "id": "sKGCSfMkUtDp",
        "outputId": "e0d35ee2-cf56-42cb-de2a-0975c856e613"
      },
      "execution_count": null,
      "outputs": [
        {
          "output_type": "stream",
          "name": "stdout",
          "text": [
            "Photo is ready!\n"
          ]
        }
      ]
    }
  ]
}